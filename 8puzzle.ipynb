{
  "nbformat": 4,
  "nbformat_minor": 0,
  "metadata": {
    "colab": {
      "provenance": [],
      "authorship_tag": "ABX9TyPsRUIUWLnJp6y0DZqPcNBr",
      "include_colab_link": true
    },
    "kernelspec": {
      "name": "python3",
      "display_name": "Python 3"
    },
    "language_info": {
      "name": "python"
    }
  },
  "cells": [
    {
      "cell_type": "markdown",
      "metadata": {
        "id": "view-in-github",
        "colab_type": "text"
      },
      "source": [
        "<a href=\"https://colab.research.google.com/github/alekhya-puli14/SDP/blob/main/8puzzle.ipynb\" target=\"_parent\"><img src=\"https://colab.research.google.com/assets/colab-badge.svg\" alt=\"Open In Colab\"/></a>"
      ]
    },
    {
      "cell_type": "code",
      "execution_count": 1,
      "metadata": {
        "colab": {
          "base_uri": "https://localhost:8080/",
          "height": 106
        },
        "id": "Yl9DT6bp7Wqy",
        "outputId": "52a8f0c0-aade-4bfc-da89-aadb9766c142"
      },
      "outputs": [
        {
          "output_type": "error",
          "ename": "IndentationError",
          "evalue": "expected an indented block after class definition on line 1 (<ipython-input-1-590e21af12e6>, line 2)",
          "traceback": [
            "\u001b[0;36m  File \u001b[0;32m\"<ipython-input-1-590e21af12e6>\"\u001b[0;36m, line \u001b[0;32m2\u001b[0m\n\u001b[0;31m    def solve(self, board):\u001b[0m\n\u001b[0m    ^\u001b[0m\n\u001b[0;31mIndentationError\u001b[0m\u001b[0;31m:\u001b[0m expected an indented block after class definition on line 1\n"
          ]
        }
      ],
      "source": [
        "class Solution:\n",
        "def solve(self, board):\n",
        "dict = {}\n",
        "flatten = []\n",
        "for i in range(len(board)):\n",
        "flatten += board[i] flatten = tuple(flatten)\n",
        "\n",
        "dict[flatten] = 0\n",
        "\n",
        "if flatten == (0, 1, 2, 3, 4, 5, 6, 7, 8):\n",
        "return 0\n",
        "\n",
        "return self.get_paths(dict)\n",
        "def get_paths(self, dict):\n",
        "cnt = 0 while True:\n",
        "current_nodes = [x for x in dict if dict[x] == cnt]\n",
        "if len(current_nodes) == 0: return -1\n",
        "\n",
        "for node in current_nodes:\n",
        "next_moves = self.find_next(node)\n",
        "for move in next_moves:\n",
        "if move not in dict:\n",
        "dict[move] = cnt + 1\n",
        "if move == (0, 1, 2, 3, 4, 5, 6, 7, 8):\n",
        "return cnt + 1 cnt += 1\n",
        "\n",
        "def find_next(self, node): moves = {\n",
        "\n",
        "0: [1, 3],\n",
        "1: [0, 2, 4],\n",
        "2: [1, 5],\n",
        "3: [0, 4, 6],\n",
        "4: [1, 3, 5, 7],\n",
        "5: [2, 4, 8],\n",
        "6: [3, 7],\n",
        "7: [4, 6, 8],\n",
        "8: [5, 7],\n",
        "}\n",
        "\n",
        "results = []\n",
        "pos_0 = node.index(0)\n",
        "for move in moves[pos_0]:\n",
        "new_node = list(node)\n",
        "new_node[move], new_node[pos_0] = new_node[pos_0],\n",
        "new_node[move]\n",
        "results.append(tuple(new_node))\n",
        "return results\n",
        "ob = Solution() matrix = [\n",
        "[3, 1, 2],\n",
        "[4, 7, 5],\n",
        "[6, 8, 0]\n",
        "print(ob.solve(matrix))"
      ]
    },
    {
      "cell_type": "code",
      "source": [
        "class Solution:\n",
        "    def solve(self, board):\n",
        "        board_dict = {}\n",
        "        flatten = []\n",
        "        for i in range(len(board)):\n",
        "            flatten += board[i]\n",
        "        flatten = tuple(flatten)\n",
        "\n",
        "        board_dict[flatten] = 0\n",
        "\n",
        "        if flatten == (0, 1, 2, 3, 4, 5, 6, 7, 8):\n",
        "            return 0\n",
        "\n",
        "        return self.get_paths(board_dict)\n",
        "\n",
        "    def get_paths(self, board_dict):\n",
        "        cnt = 0\n",
        "        while True:\n",
        "            current_nodes = [x for x in board_dict if board_dict[x] == cnt]\n",
        "            if len(current_nodes) == 0:\n",
        "                return -1\n",
        "\n",
        "            for node in current_nodes:\n",
        "                next_moves = self.find_next(node)\n",
        "                for move in next_moves:\n",
        "                    if move not in board_dict:\n",
        "                        board_dict[move] = cnt + 1\n",
        "                        if move == (0, 1, 2, 3, 4, 5, 6, 7, 8):\n",
        "                            return cnt + 1\n",
        "            cnt += 1\n",
        "\n",
        "    def find_next(self, node):\n",
        "        moves = {\n",
        "            0: [1, 3],\n",
        "            1: [0, 2, 4],\n",
        "            2: [1, 5],\n",
        "            3: [0, 4, 6],\n",
        "            4: [1, 3, 5, 7],\n",
        "            5: [2, 4, 8],\n",
        "            6: [3, 7],\n",
        "            7: [4, 6, 8],\n",
        "            8: [5, 7],\n",
        "        }\n",
        "\n",
        "        results = []\n",
        "        pos_0 = node.index(0)\n",
        "        for move in moves[pos_0]:\n",
        "            new_node = list(node)\n",
        "            new_node[move], new_node[pos_0] = new_node[pos_0], new_node[move]\n",
        "            results.append(tuple(new_node))\n",
        "        return results\n",
        "\n",
        "\n",
        "# Example usage\n",
        "ob = Solution()\n",
        "matrix = [\n",
        "    [3, 1, 2],\n",
        "    [4, 7, 5],\n",
        "    [6, 8, 0]\n",
        "]\n",
        "print(ob.solve(matrix))\n"
      ],
      "metadata": {
        "colab": {
          "base_uri": "https://localhost:8080/"
        },
        "id": "IMm5Z5Ok76nl",
        "outputId": "4518fd12-35ba-4ec7-c178-c7875943d991"
      },
      "execution_count": 2,
      "outputs": [
        {
          "output_type": "stream",
          "name": "stdout",
          "text": [
            "4\n"
          ]
        }
      ]
    },
    {
      "cell_type": "code",
      "source": [
        "print(\"Enter the number of queens\")\n",
        "N = int(input())\n",
        "\n",
        "# Create an NxN chessboard initialized with 0s\n",
        "board = [[0] * N for _ in range(N)]\n",
        "\n",
        "def is_safe(row, col):\n",
        "    # Check the column\n",
        "    for i in range(row):\n",
        "        if board[i][col] == 1:\n",
        "            return False\n",
        "\n",
        "    # Check upper left diagonal\n",
        "    i, j = row, col\n",
        "    while i >= 0 and j >= 0:\n",
        "        if board[i][j] == 1:\n",
        "            return False\n",
        "        i -= 1\n",
        "        j -= 1\n",
        "\n",
        "    # Check upper right diagonal\n",
        "    i, j = row, col\n",
        "    while i >= 0 and j < N:\n",
        "        if board[i][j] == 1:\n",
        "            return False\n",
        "        i -= 1\n",
        "        j += 1\n",
        "\n",
        "    return True\n",
        "\n",
        "def solve_n_queens(row):\n",
        "    if row >= N:\n",
        "        return True  # All queens are placed successfully\n",
        "\n",
        "    for col in range(N):\n",
        "        if is_safe(row, col):\n",
        "            board[row][col] = 1\n",
        "            if solve_n_queens(row + 1):\n",
        "                return True\n",
        "            board[row][col] = 0  # Backtrack\n",
        "\n",
        "    return False\n",
        "\n",
        "# Check if a solution exists\n",
        "if solve_n_queens(0):\n",
        "    print(\"Solution exists. Placements of queens:\")\n",
        "    for row in board:\n",
        "        print(row)\n",
        "else:\n",
        "    print(\"No solution exists.\")\n"
      ],
      "metadata": {
        "colab": {
          "base_uri": "https://localhost:8080/"
        },
        "id": "PDJlt-am8dKT",
        "outputId": "521d7867-53b8-42a4-cbc7-3ab0936c3a7d"
      },
      "execution_count": 3,
      "outputs": [
        {
          "output_type": "stream",
          "name": "stdout",
          "text": [
            "Enter the number of queens\n",
            "8\n",
            "Solution exists. Placements of queens:\n",
            "[1, 0, 0, 0, 0, 0, 0, 0]\n",
            "[0, 0, 0, 0, 1, 0, 0, 0]\n",
            "[0, 0, 0, 0, 0, 0, 0, 1]\n",
            "[0, 0, 0, 0, 0, 1, 0, 0]\n",
            "[0, 0, 1, 0, 0, 0, 0, 0]\n",
            "[0, 0, 0, 0, 0, 0, 1, 0]\n",
            "[0, 1, 0, 0, 0, 0, 0, 0]\n",
            "[0, 0, 0, 1, 0, 0, 0, 0]\n"
          ]
        }
      ]
    },
    {
      "cell_type": "code",
      "source": [],
      "metadata": {
        "id": "x3wBjefA_Bw0"
      },
      "execution_count": null,
      "outputs": []
    }
  ]
}